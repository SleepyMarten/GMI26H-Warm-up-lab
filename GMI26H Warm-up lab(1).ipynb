{
 "cells": [
  {
   "cell_type": "markdown",
   "id": "056aeb53",
   "metadata": {},
   "source": [
    "# GMI26H Cryptography Compulsory JNB Python Warm-up Lab"
   ]
  },
  {
   "cell_type": "markdown",
   "id": "3ddb3512",
   "metadata": {},
   "source": [
    "### You must upload your solutions in .ipynb format to Learn by Thursday September 15th at 11:59 PM with your solutions added to this file."
   ]
  },
  {
   "cell_type": "markdown",
   "id": "4b6b2310",
   "metadata": {},
   "source": [
    "Write your name and email below. Don't edit the header or the questions or anything else. Add your answers in text or code to cells below the questions."
   ]
  },
  {
   "cell_type": "markdown",
   "id": "7562791f",
   "metadata": {},
   "source": [
    "### Student name: \n",
    "\n",
    "### DU email address: "
   ]
  },
  {
   "cell_type": "markdown",
   "id": "ebe574bc",
   "metadata": {},
   "source": [
    "### AES Lab 1 will take place Friday September 16th at 9:00 AM sharp, so everyone is expected to have submitted their solutions to this lab by the previous night and have their JNBs running. Contact Charlie/Hasan regarding the labs if you have questions. If you cannot make the September 15th deadline, you can submit later but note that only two resubmissions are allowed. Resubmission deadlines are TBA."
   ]
  },
  {
   "cell_type": "markdown",
   "id": "45d410e0",
   "metadata": {},
   "source": [
    "## Task 1"
   ]
  },
  {
   "cell_type": "markdown",
   "id": "14c80bb4",
   "metadata": {},
   "source": [
    "a) All valid International Standard Book Number 13 (ISBN-13) numbers satisfy\n",
    "\n",
    "$$m \\equiv 0 \\mod 10,$$\n",
    "\n",
    "where\n",
    "\n",
    "$$m = x_1+3x_2+x_3+3x_4+x_5+3x_6+x_7+3x_8+x_9+3x_{10}+x_{11}+3x_{12}+x_{13}$$\n",
    "\n",
    "and $x_1$ is the first (leftmost) digit of positive integer $n$, $x_2$ is the second digit, and so on. For example, for $n=9781252434434$, $x_1=9$ and $x_2=7$, and so on.\n",
    "\n",
    "Use Python (and/or Sage) to define a function that checks whether or not a positive integer argument $n$ is a valid ISBN-13 number.\n",
    "\n",
    "The function should take only one argument, that is, the number $n$ (not $m$). The value of $m$ can be calculated with $n$ inside the function implementation. The function should return string \"Valid\" if $n$ is valid and string \"Invalid\" if $n$ is invalid. You can assume that $n$ is a 13-digit number."
   ]
  },
  {
   "cell_type": "code",
   "execution_count": 1,
   "id": "9b6e7bc2",
   "metadata": {},
   "outputs": [],
   "source": [
    "#Write your code here for a)\n"
   ]
  },
  {
   "cell_type": "markdown",
   "id": "d3d99c68",
   "metadata": {},
   "source": [
    "b) Use the function that you just wrote to verify that $n=9781252434434$ is invalid."
   ]
  },
  {
   "cell_type": "code",
   "execution_count": 2,
   "id": "17643574",
   "metadata": {},
   "outputs": [],
   "source": [
    "#Write your code here for b)\n"
   ]
  },
  {
   "cell_type": "markdown",
   "id": "231da4b6",
   "metadata": {},
   "source": [
    "c) Use the function that you just wrote to verify that the ISBN-13 number of the course book \"Stallings, W. (2022). Cryptography and Network Security: Principles and Practice, Global Edition. Pearson\" is valid."
   ]
  },
  {
   "cell_type": "code",
   "execution_count": 3,
   "id": "00cb3253",
   "metadata": {},
   "outputs": [],
   "source": [
    "#Write your code here for c)\n"
   ]
  },
  {
   "cell_type": "markdown",
   "id": "e9161272",
   "metadata": {},
   "source": [
    "## Task 2"
   ]
  },
  {
   "cell_type": "markdown",
   "id": "678f1e21",
   "metadata": {},
   "source": [
    "In modular arithmetic, positive integer $g$ is called a primitive root of prime $p$ if every number $a$, with $1\\leq a < n$, is congruent to a power of $g$ modulo $p$.\n",
    "\n",
    "For example, $2$ is a primitive root of $5$ because for all numbers $a$ coprime to $5$, that is, for numbers $a=1$, $a=2$, $a=3$, and $a=4$, there exists an $i$ such that a power of $2$ (a number $2^i$) is congruent to $a$ as\n",
    "\n",
    "$$2^1=2\\mod 5,$$\n",
    "$$2^2=4\\mod 5,$$\n",
    "$$2^3=3\\mod 5,$$\n",
    "$$2^4=1\\mod 5.$$\n",
    "\n",
    "For $a=1$, $i=4$. For $a=2$, $i=1$. For $a=3$, $i=3$. For $a=4$, $i=2$.\n",
    "\n",
    "a) Use Python (and/or Sage) to write a program that prints the first $12$ powers of\n",
    "\n",
    "$$11^i \\mod 13$$\n",
    "\n",
    "(where $i$ goes from $1$ to $12$) and explain why $11$ is a primitive root of $13$ by examining the printout."
   ]
  },
  {
   "cell_type": "code",
   "execution_count": 4,
   "id": "02b3d89c",
   "metadata": {},
   "outputs": [],
   "source": [
    "#your code here"
   ]
  },
  {
   "cell_type": "markdown",
   "id": "dca81280",
   "metadata": {},
   "source": [
    "Your explanation here: "
   ]
  },
  {
   "cell_type": "markdown",
   "id": "781078bb",
   "metadata": {},
   "source": [
    "## Task 3"
   ]
  },
  {
   "cell_type": "markdown",
   "id": "0666cb34",
   "metadata": {},
   "source": [
    "Let $n=pq$, where $p=43$ and $q=79$. Write a snippet of Python (and/or Sage) code that solves\n",
    "\n",
    "$$279 = 47^i \\mod n$$\n",
    "\n",
    "for $i$. In other words, your program needs to find $i$ so that the above expression is satisfied. You can use a for-loop."
   ]
  },
  {
   "cell_type": "code",
   "execution_count": 3,
   "id": "3ac7e309",
   "metadata": {},
   "outputs": [],
   "source": [
    "#your code here"
   ]
  }
 ],
 "metadata": {
  "kernelspec": {
   "display_name": "SageMath 9.4",
   "language": "sage",
   "name": "sagemath-9.4"
  },
  "language_info": {
   "codemirror_mode": {
    "name": "ipython",
    "version": 3
   },
   "file_extension": ".py",
   "mimetype": "text/x-python",
   "name": "python",
   "nbconvert_exporter": "python",
   "pygments_lexer": "ipython3",
   "version": "3.9.5"
  }
 },
 "nbformat": 4,
 "nbformat_minor": 5
}
