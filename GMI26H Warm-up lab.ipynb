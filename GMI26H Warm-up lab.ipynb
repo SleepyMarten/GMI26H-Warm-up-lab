{
 "cells": [
  {
   "cell_type": "markdown",
   "id": "056aeb53",
   "metadata": {},
   "source": [
    "# GMI26H Cryptography Compulsory JNB Python Warm-up Lab"
   ]
  },
  {
   "cell_type": "markdown",
   "id": "3ddb3512",
   "metadata": {},
   "source": [
    "### You must upload your solutions in .ipynb format to Learn by Thursday September 15th at 11:59 PM with your solutions added to this file."
   ]
  },
  {
   "cell_type": "markdown",
   "id": "4b6b2310",
   "metadata": {},
   "source": [
    "Write your name and email below. Don't edit the header or the questions or anything else. Add your answers in text or code to cells below the questions."
   ]
  },
  {
   "cell_type": "markdown",
   "id": "7562791f",
   "metadata": {},
   "source": [
    "### Student name: Atichoke Nantarat \n",
    "\n",
    "### DU email address: H20atina@du.se"
   ]
  },
  {
   "cell_type": "markdown",
   "id": "ebe574bc",
   "metadata": {},
   "source": [
    "### AES Lab 1 will take place Friday September 16th at 9:00 AM sharp, so everyone is expected to have submitted their solutions to this lab by the previous night and have their JNBs running. Contact Charlie/Hasan regarding the labs if you have questions. If you cannot make the September 15th deadline, you can submit later but note that only two resubmissions are allowed. Resubmission deadlines are TBA."
   ]
  },
  {
   "cell_type": "markdown",
   "id": "45d410e0",
   "metadata": {},
   "source": [
    "## Task 1"
   ]
  },
  {
   "cell_type": "markdown",
   "id": "14c80bb4",
   "metadata": {},
   "source": [
    "a) All valid International Standard Book Number 13 (ISBN-13) numbers satisfy\n",
    "\n",
    "$$m \\equiv 0 \\mod 10,$$\n",
    "\n",
    "where\n",
    "\n",
    "$$m = x_1+3x_2+x_3+3x_4+x_5+3x_6+x_7+3x_8+x_9+3x_{10}+x_{11}+3x_{12}+x_{13}$$\n",
    "\n",
    "and $x_1$ is the first (leftmost) digit of positive integer $n$, $x_2$ is the second digit, and so on. For example, for $n=9781252434434$, $x_1=9$ and $x_2=7$, and so on.\n",
    "\n",
    "Use Python (and/or Sage) to define a function that checks whether or not a positive integer argument $n$ is a valid ISBN-13 number.\n",
    "\n",
    "The function should take only one argument, that is, the number $n$ (not $m$). The value of $m$ can be calculated with $n$ inside the function implementation. The function should return string \"Valid\" if $n$ is valid and string \"Invalid\" if $n$ is invalid. You can assume that $n$ is a 13-digit number."
   ]
  },
  {
   "cell_type": "code",
   "execution_count": 11,
   "id": "9b6e7bc2",
   "metadata": {},
   "outputs": [],
   "source": [
    "#Write your code here for a)\n",
    "def isbn_validator(n):\n",
    "    str_n = str(n) #making the numbers into string for further use\n",
    "    count = 0 #This will be used for the formular to check if it is an valid isbn number\n",
    "    sum = 0 #The sum that will be % by 10 to check isbn number\n",
    "\n",
    "    #The for loop will take the first left number addition with the ( 2nd number multiplied by 3) then repeat until the 13th number.\n",
    "    for i in str_n:\n",
    "        count += 1\n",
    "        if count % 2 == 1:\n",
    "            sum = sum +int(i)\n",
    "        elif count % 2  == 0:\n",
    "            k = 3*int(i)\n",
    "            sum = sum + k\n",
    "    #Check if ISBN number is valid\n",
    "    res = sum%10\n",
    "    if res == 0:\n",
    "        print(f\"ISBN number {n}: Valid\")\n",
    "    elif res >= 1:\n",
    "        print(f\"ISBN number {n}: Invalid\")\n",
    "    else:\n",
    "        print(\"Something wrong occured.\")\n",
    "        print(\"res was : {res}\")"
   ]
  },
  {
   "cell_type": "markdown",
   "id": "d3d99c68",
   "metadata": {},
   "source": [
    "b) Use the function that you just wrote to verify that $n=9781252434434$ is invalid."
   ]
  },
  {
   "cell_type": "code",
   "execution_count": 12,
   "id": "17643574",
   "metadata": {},
   "outputs": [
    {
     "name": "stdout",
     "output_type": "stream",
     "text": [
      "ISBN number 9781252434434: Invalid\n"
     ]
    }
   ],
   "source": [
    "#Write your code here for b)\n",
    "isbn_validator(9781252434434)"
   ]
  },
  {
   "cell_type": "markdown",
   "id": "231da4b6",
   "metadata": {},
   "source": [
    "c) Use the function that you just wrote to verify that the ISBN-13 number of the course book \"Stallings, W. (2022). Cryptography and Network Security: Principles and Practice, Global Edition. Pearson\" is valid."
   ]
  },
  {
   "cell_type": "code",
   "execution_count": 13,
   "id": "00cb3253",
   "metadata": {},
   "outputs": [
    {
     "name": "stdout",
     "output_type": "stream",
     "text": [
      "ISBN number 9781292437484: Valid\n"
     ]
    }
   ],
   "source": [
    "#Write your code here for c)\n",
    "isbn_validator(9781292437484)"
   ]
  },
  {
   "cell_type": "markdown",
   "id": "e9161272",
   "metadata": {},
   "source": [
    "## Task 2"
   ]
  },
  {
   "cell_type": "markdown",
   "id": "678f1e21",
   "metadata": {},
   "source": [
    "In modular arithmetic, positive integer $g$ is called a primitive root of prime $p$ if every number $a$, with $1\\leq a < n$, is congruent to a power of $g$ modulo $p$.\n",
    "\n",
    "For example, $2$ is a primitive root of $5$ because for all numbers $a$ coprime to $5$, that is, for numbers $a=1$, $a=2$, $a=3$, and $a=4$, there exists an $i$ such that a power of $2$ (a number $2^i$) is congruent to $a$ as\n",
    "\n",
    "$$2^1=2\\mod 5,$$\n",
    "$$2^2=4\\mod 5,$$\n",
    "$$2^3=3\\mod 5,$$\n",
    "$$2^4=1\\mod 5.$$\n",
    "\n",
    "For $a=1$, $i=4$. For $a=2$, $i=1$. For $a=3$, $i=3$. For $a=4$, $i=2$.\n",
    "\n",
    "a) Use Python (and/or Sage) to write a program that prints the first $12$ powers of $$11^i \\mod 13$$\n",
    "\n",
    "(where $i$ goes from $1$ to $12$) and explain why $11$ is a primitive root of $13$ by examining the printout."
   ]
  },
  {
   "cell_type": "code",
   "execution_count": 15,
   "id": "02b3d89c",
   "metadata": {},
   "outputs": [
    {
     "name": "stdout",
     "output_type": "stream",
     "text": [
      "11 || i:1 ||%11:11\n",
      "121 || i:2 ||%11:4\n",
      "1331 || i:3 ||%11:5\n",
      "14641 || i:4 ||%11:3\n",
      "161051 || i:5 ||%11:7\n",
      "1771561 || i:6 ||%11:12\n",
      "19487171 || i:7 ||%11:2\n",
      "214358881 || i:8 ||%11:9\n",
      "2357947691 || i:9 ||%11:8\n",
      "25937424601 || i:10 ||%11:10\n",
      "285311670611 || i:11 ||%11:6\n",
      "3138428376721 || i:12 ||%11:1\n"
     ]
    }
   ],
   "source": [
    "#your code here\n",
    "def mod_func():\n",
    "    # 2^3 = 3, 8 (mod 5) = 3 || a = 3, i = 3\n",
    "    i = 0\n",
    "    a = 0\n",
    "    for x in range (0,12):\n",
    "        i += 1\n",
    "        res = 11**i\n",
    "        print(f\"{res} || i:{i} ||%11:{res%13}\")\n",
    "\n",
    "    # 11^1 = 11 mod 13\n",
    "\n",
    "mod_func()\n",
    "    "
   ]
  },
  {
   "cell_type": "markdown",
   "id": "dca81280",
   "metadata": {},
   "source": [
    "Your explanation here: \n",
    "We can see that 11 is a primitive root of 13 with for example looking at the 2nd line which is 121 ($11^2$) and $11^2 = 4 \\mod 13$\n",
    "another example is 2357947691 ($11^9 = 8 \\mod 13 $)"
   ]
  },
  {
   "cell_type": "markdown",
   "id": "781078bb",
   "metadata": {},
   "source": [
    "## Task 3"
   ]
  },
  {
   "cell_type": "markdown",
   "id": "0666cb34",
   "metadata": {},
   "source": [
    "Let $n=pq$, where $p=43$ and $q=79$. Write a snippet of Python (and/or Sage) code that solves\n",
    "\n",
    "$$279 = 47^i \\mod n$$\n",
    "\n",
    "for $i$. In other words, your program needs to find $i$ so that the above expression is satisfied. You can use a for-loop."
   ]
  },
  {
   "cell_type": "code",
   "execution_count": 16,
   "id": "3ac7e309",
   "metadata": {},
   "outputs": [
    {
     "name": "stdout",
     "output_type": "stream",
     "text": [
      "i : 38\n"
     ]
    }
   ],
   "source": [
    "#your code here\n",
    "# n = pq, p = 43, q = 79\n",
    "i = 0\n",
    "res = 0\n",
    "p = 43\n",
    "q = 79\n",
    "n = p*q\n",
    "while(True):\n",
    "    if res == 279:\n",
    "        print(f\"i : {i}\")\n",
    "        #print(sum)\n",
    "        break\n",
    "    else:\n",
    "        i += 1\n",
    "        sum = 47**i\n",
    "        res = sum%n\n",
    "\n"
   ]
  }
 ],
 "metadata": {
  "kernelspec": {
   "display_name": "Python 3.10.5 64-bit",
   "language": "python",
   "name": "python3"
  },
  "language_info": {
   "codemirror_mode": {
    "name": "ipython",
    "version": 3
   },
   "file_extension": ".py",
   "mimetype": "text/x-python",
   "name": "python",
   "nbconvert_exporter": "python",
   "pygments_lexer": "ipython3",
   "version": "3.10.5"
  },
  "vscode": {
   "interpreter": {
    "hash": "85b40fe2041d07446ce04a4d73893508faa94764b231bab056b823d5e897e796"
   }
  }
 },
 "nbformat": 4,
 "nbformat_minor": 5
}
